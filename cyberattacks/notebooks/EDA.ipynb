{
 "cells": [
  {
   "cell_type": "markdown",
   "metadata": {},
   "source": [
    " Exploratory Data Analysis (EDA) - Cybersecurity Attacks Dataset  \n",
    "\n",
    "# Introduction  \n",
    "This notebook focuses on conducting an **Exploratory Data Analysis (EDA)** of a cybersecurity attack dataset. The goal is to uncover patterns in network traffic, identify potential anomalies, and gain insights into recorded security incidents.  \n",
    "\n",
    "## Dataset Information  \n",
    "- **File Name:** `cybersecurity_attacks.csv`  \n",
    "- **Encoding:** `Windows-1252`  \n",
    "- **Delimiter:** `,` (comma)  \n",
    "- **Purpose:** Analyze network activity to understand attack behaviors and prepare the data for further processing.  \n",
    "\n",
    "## Analysis Steps  \n",
    "1. **Data Loading and Initial Exploration**  \n",
    "   - Import the dataset and display the first few records.  \n",
    "   - Check data types and identify missing values.  \n",
    "2. **Statistical Overview and Data Distribution**  \n",
    "   - Examine key variables, including traffic type, protocol, and severity level.  \n",
    "   - Analyze trends in blocked, logged, and ignored events.  \n",
    "3. **Pattern Recognition and Trends**  \n",
    "   - Evaluate attack occurrences over time.  \n",
    "   - Identify periods with increased cyber activity.  \n",
    "4. **Outlier and Anomaly Detection**  \n",
    "   - Investigate unusual network activity based on packet size, source ports, and protocols.  \n",
    "5. **Data Preparation for Modeling**  \n",
    "   - Create relevant features for potential machine learning applications.  \n",
    "\n",
    "## Expected Insights  \n",
    "- Identify **common attack sources and their characteristics**.  \n",
    "- Discover **patterns in cybersecurity incidents**.  \n",
    "- Prepare structured data for **predictive modeling** and further analysis.  \n",
    "\n",
    "---\n",
    "Run the cells below to start the analysis.  "
   ]
  },
  {
   "cell_type": "code",
   "execution_count": 1,
   "metadata": {},
   "outputs": [],
   "source": [
    "# Adding the parent directory to the system path\n",
    "import sys\n",
    "sys.path.append('../')\n",
    "\n",
    "# Ignore Warnings\n",
    "import warnings\n",
    "warnings.filterwarnings('ignore')\n",
    "\n",
    "\n",
    "# Importing the Loguru library for advanced logging\n",
    "from loguru import logger"
   ]
  },
  {
   "cell_type": "code",
   "execution_count": 2,
   "metadata": {},
   "outputs": [
    {
     "name": "stderr",
     "output_type": "stream",
     "text": [
      "\u001b[32m2025-03-09 11:57:32.242\u001b[0m | \u001b[1mINFO    \u001b[0m | \u001b[36mcyberattacks.config\u001b[0m:\u001b[36m<module>\u001b[0m:\u001b[36m11\u001b[0m - \u001b[1mPROJ_ROOT path is: /Users/natalia/Documents/projetos/cyberAttack/cyberattacks\u001b[0m\n"
     ]
    }
   ],
   "source": [
    "# Importing local files\n",
    "\n",
    "## Importing config for global variables\n",
    "from cyberattacks.config import *"
   ]
  },
  {
   "cell_type": "code",
   "execution_count": 3,
   "metadata": {},
   "outputs": [],
   "source": [
    "import pandas as pd \n",
    "import numpy as np\n",
    "\n",
    "import seaborn as sns\n",
    "import matplotlib.pyplot as plt"
   ]
  },
  {
   "cell_type": "code",
   "execution_count": 4,
   "metadata": {},
   "outputs": [],
   "source": [
    "# Show all collumns\n",
    "pd.set_option('display.max_columns',None)"
   ]
  },
  {
   "cell_type": "code",
   "execution_count": 5,
   "metadata": {},
   "outputs": [
    {
     "name": "stderr",
     "output_type": "stream",
     "text": [
      "\u001b[32m2025-03-09 11:57:32.740\u001b[0m | \u001b[1mINFO    \u001b[0m | \u001b[36m__main__\u001b[0m:\u001b[36m<module>\u001b[0m:\u001b[36m1\u001b[0m - \u001b[1mStarting EDA on the Cybersecurity Attacks Dataset\u001b[0m\n"
     ]
    }
   ],
   "source": [
    "logger.info(\"Starting EDA on the Cybersecurity Attacks Dataset\")"
   ]
  },
  {
   "cell_type": "markdown",
   "metadata": {},
   "source": [
    "# 1. **Data Loading and Initial Exploration**  "
   ]
  },
  {
   "cell_type": "code",
   "execution_count": 6,
   "metadata": {},
   "outputs": [
    {
     "name": "stderr",
     "output_type": "stream",
     "text": [
      "\u001b[32m2025-03-09 11:57:32.941\u001b[0m | \u001b[1mINFO    \u001b[0m | \u001b[36m__main__\u001b[0m:\u001b[36m<module>\u001b[0m:\u001b[36m4\u001b[0m - \u001b[1mDataset imported with size: 40000\u001b[0m\n"
     ]
    }
   ],
   "source": [
    "# Importing the dataset from an external file\n",
    "file_name = f'{EXTERNAL_DATA_DIR}/cybersecurity_attacks.csv'\n",
    "df = pd.read_csv(file_name, encoding=\"Windows-1252\", sep=\",\")\n",
    "logger.info(f'Dataset imported with size: {len(df)}')"
   ]
  },
  {
   "cell_type": "code",
   "execution_count": 7,
   "metadata": {},
   "outputs": [
    {
     "data": {
      "text/html": [
       "<div>\n",
       "<style scoped>\n",
       "    .dataframe tbody tr th:only-of-type {\n",
       "        vertical-align: middle;\n",
       "    }\n",
       "\n",
       "    .dataframe tbody tr th {\n",
       "        vertical-align: top;\n",
       "    }\n",
       "\n",
       "    .dataframe thead th {\n",
       "        text-align: right;\n",
       "    }\n",
       "</style>\n",
       "<table border=\"1\" class=\"dataframe\">\n",
       "  <thead>\n",
       "    <tr style=\"text-align: right;\">\n",
       "      <th></th>\n",
       "      <th>Timestamp</th>\n",
       "      <th>Source IP Address</th>\n",
       "      <th>Destination IP Address</th>\n",
       "      <th>Source Port</th>\n",
       "      <th>Destination Port</th>\n",
       "      <th>Protocol</th>\n",
       "      <th>Packet Length</th>\n",
       "      <th>Packet Type</th>\n",
       "      <th>Traffic Type</th>\n",
       "      <th>Payload Data</th>\n",
       "      <th>Malware Indicators</th>\n",
       "      <th>Anomaly Scores</th>\n",
       "      <th>Alerts/Warnings</th>\n",
       "      <th>Attack Type</th>\n",
       "      <th>Attack Signature</th>\n",
       "      <th>Action Taken</th>\n",
       "      <th>Severity Level</th>\n",
       "      <th>User Information</th>\n",
       "      <th>Device Information</th>\n",
       "      <th>Network Segment</th>\n",
       "      <th>Geo-location Data</th>\n",
       "      <th>Proxy Information</th>\n",
       "      <th>Firewall Logs</th>\n",
       "      <th>IDS/IPS Alerts</th>\n",
       "      <th>Log Source</th>\n",
       "    </tr>\n",
       "  </thead>\n",
       "  <tbody>\n",
       "    <tr>\n",
       "      <th>0</th>\n",
       "      <td>2023-05-30 06:33:58</td>\n",
       "      <td>103.216.15.12</td>\n",
       "      <td>84.9.164.252</td>\n",
       "      <td>31225</td>\n",
       "      <td>17616</td>\n",
       "      <td>ICMP</td>\n",
       "      <td>503</td>\n",
       "      <td>Data</td>\n",
       "      <td>HTTP</td>\n",
       "      <td>Qui natus odio asperiores nam. Optio nobis ius...</td>\n",
       "      <td>IoC Detected</td>\n",
       "      <td>28.67</td>\n",
       "      <td>NaN</td>\n",
       "      <td>Malware</td>\n",
       "      <td>Known Pattern B</td>\n",
       "      <td>Logged</td>\n",
       "      <td>Low</td>\n",
       "      <td>Reyansh Dugal</td>\n",
       "      <td>Mozilla/5.0 (compatible; MSIE 8.0; Windows NT ...</td>\n",
       "      <td>Segment A</td>\n",
       "      <td>Jamshedpur, Sikkim</td>\n",
       "      <td>150.9.97.135</td>\n",
       "      <td>Log Data</td>\n",
       "      <td>NaN</td>\n",
       "      <td>Server</td>\n",
       "    </tr>\n",
       "    <tr>\n",
       "      <th>1</th>\n",
       "      <td>2020-08-26 07:08:30</td>\n",
       "      <td>78.199.217.198</td>\n",
       "      <td>66.191.137.154</td>\n",
       "      <td>17245</td>\n",
       "      <td>48166</td>\n",
       "      <td>ICMP</td>\n",
       "      <td>1174</td>\n",
       "      <td>Data</td>\n",
       "      <td>HTTP</td>\n",
       "      <td>Aperiam quos modi officiis veritatis rem. Omni...</td>\n",
       "      <td>IoC Detected</td>\n",
       "      <td>51.50</td>\n",
       "      <td>NaN</td>\n",
       "      <td>Malware</td>\n",
       "      <td>Known Pattern A</td>\n",
       "      <td>Blocked</td>\n",
       "      <td>Low</td>\n",
       "      <td>Sumer Rana</td>\n",
       "      <td>Mozilla/5.0 (compatible; MSIE 8.0; Windows NT ...</td>\n",
       "      <td>Segment B</td>\n",
       "      <td>Bilaspur, Nagaland</td>\n",
       "      <td>NaN</td>\n",
       "      <td>Log Data</td>\n",
       "      <td>NaN</td>\n",
       "      <td>Firewall</td>\n",
       "    </tr>\n",
       "    <tr>\n",
       "      <th>2</th>\n",
       "      <td>2022-11-13 08:23:25</td>\n",
       "      <td>63.79.210.48</td>\n",
       "      <td>198.219.82.17</td>\n",
       "      <td>16811</td>\n",
       "      <td>53600</td>\n",
       "      <td>UDP</td>\n",
       "      <td>306</td>\n",
       "      <td>Control</td>\n",
       "      <td>HTTP</td>\n",
       "      <td>Perferendis sapiente vitae soluta. Hic delectu...</td>\n",
       "      <td>IoC Detected</td>\n",
       "      <td>87.42</td>\n",
       "      <td>Alert Triggered</td>\n",
       "      <td>DDoS</td>\n",
       "      <td>Known Pattern B</td>\n",
       "      <td>Ignored</td>\n",
       "      <td>Low</td>\n",
       "      <td>Himmat Karpe</td>\n",
       "      <td>Mozilla/5.0 (compatible; MSIE 9.0; Windows NT ...</td>\n",
       "      <td>Segment C</td>\n",
       "      <td>Bokaro, Rajasthan</td>\n",
       "      <td>114.133.48.179</td>\n",
       "      <td>Log Data</td>\n",
       "      <td>Alert Data</td>\n",
       "      <td>Firewall</td>\n",
       "    </tr>\n",
       "  </tbody>\n",
       "</table>\n",
       "</div>"
      ],
      "text/plain": [
       "             Timestamp Source IP Address Destination IP Address  Source Port  \\\n",
       "0  2023-05-30 06:33:58     103.216.15.12           84.9.164.252        31225   \n",
       "1  2020-08-26 07:08:30    78.199.217.198         66.191.137.154        17245   \n",
       "2  2022-11-13 08:23:25      63.79.210.48          198.219.82.17        16811   \n",
       "\n",
       "   Destination Port Protocol  Packet Length Packet Type Traffic Type  \\\n",
       "0             17616     ICMP            503        Data         HTTP   \n",
       "1             48166     ICMP           1174        Data         HTTP   \n",
       "2             53600      UDP            306     Control         HTTP   \n",
       "\n",
       "                                        Payload Data Malware Indicators  \\\n",
       "0  Qui natus odio asperiores nam. Optio nobis ius...       IoC Detected   \n",
       "1  Aperiam quos modi officiis veritatis rem. Omni...       IoC Detected   \n",
       "2  Perferendis sapiente vitae soluta. Hic delectu...       IoC Detected   \n",
       "\n",
       "   Anomaly Scores  Alerts/Warnings Attack Type Attack Signature Action Taken  \\\n",
       "0           28.67              NaN     Malware  Known Pattern B       Logged   \n",
       "1           51.50              NaN     Malware  Known Pattern A      Blocked   \n",
       "2           87.42  Alert Triggered        DDoS  Known Pattern B      Ignored   \n",
       "\n",
       "  Severity Level User Information  \\\n",
       "0            Low    Reyansh Dugal   \n",
       "1            Low       Sumer Rana   \n",
       "2            Low     Himmat Karpe   \n",
       "\n",
       "                                  Device Information Network Segment  \\\n",
       "0  Mozilla/5.0 (compatible; MSIE 8.0; Windows NT ...       Segment A   \n",
       "1  Mozilla/5.0 (compatible; MSIE 8.0; Windows NT ...       Segment B   \n",
       "2  Mozilla/5.0 (compatible; MSIE 9.0; Windows NT ...       Segment C   \n",
       "\n",
       "    Geo-location Data Proxy Information Firewall Logs IDS/IPS Alerts  \\\n",
       "0  Jamshedpur, Sikkim      150.9.97.135      Log Data            NaN   \n",
       "1  Bilaspur, Nagaland               NaN      Log Data            NaN   \n",
       "2   Bokaro, Rajasthan    114.133.48.179      Log Data     Alert Data   \n",
       "\n",
       "  Log Source  \n",
       "0     Server  \n",
       "1   Firewall  \n",
       "2   Firewall  "
      ]
     },
     "execution_count": 7,
     "metadata": {},
     "output_type": "execute_result"
    }
   ],
   "source": [
    "df.head(3)"
   ]
  },
  {
   "cell_type": "markdown",
   "metadata": {},
   "source": [
    "## NAN Values analysis"
   ]
  },
  {
   "cell_type": "code",
   "execution_count": 8,
   "metadata": {},
   "outputs": [
    {
     "data": {
      "text/plain": [
       "Alerts/Warnings           20067\n",
       "IDS/IPS Alerts            20050\n",
       "Malware Indicators        20000\n",
       "Firewall Logs             19961\n",
       "Proxy Information         19851\n",
       "Attack Type                   0\n",
       "Geo-location Data             0\n",
       "Network Segment               0\n",
       "Device Information            0\n",
       "User Information              0\n",
       "Severity Level                0\n",
       "Action Taken                  0\n",
       "Attack Signature              0\n",
       "Timestamp                     0\n",
       "Source IP Address             0\n",
       "Anomaly Scores                0\n",
       "Payload Data                  0\n",
       "Traffic Type                  0\n",
       "Packet Type                   0\n",
       "Packet Length                 0\n",
       "Protocol                      0\n",
       "Destination Port              0\n",
       "Source Port                   0\n",
       "Destination IP Address        0\n",
       "Log Source                    0\n",
       "dtype: int64"
      ]
     },
     "execution_count": 8,
     "metadata": {},
     "output_type": "execute_result"
    }
   ],
   "source": [
    "# Counting NAN values\n",
    "df.isna().sum().sort_values(ascending=False)"
   ]
  },
  {
   "cell_type": "code",
   "execution_count": 9,
   "metadata": {},
   "outputs": [],
   "source": [
    "# Checking for missing values\n",
    "missing_df = pd.DataFrame({\n",
    "    \"Column\": df.columns,\n",
    "    \"Missing Values\": df.isnull().sum().values,\n",
    "    \"Percentage (%)\": (df.isnull().sum().values / len(df)) * 100\n",
    "})"
   ]
  },
  {
   "cell_type": "code",
   "execution_count": 10,
   "metadata": {},
   "outputs": [],
   "source": [
    "# Filtering only columns that have missing values\n",
    "missing_df = missing_df[missing_df[\"Missing Values\"] > 0]"
   ]
  },
  {
   "cell_type": "code",
   "execution_count": 11,
   "metadata": {},
   "outputs": [
    {
     "name": "stdout",
     "output_type": "stream",
     "text": [
      "Missing Values Analysis:\n"
     ]
    },
    {
     "data": {
      "text/html": [
       "<div>\n",
       "<style scoped>\n",
       "    .dataframe tbody tr th:only-of-type {\n",
       "        vertical-align: middle;\n",
       "    }\n",
       "\n",
       "    .dataframe tbody tr th {\n",
       "        vertical-align: top;\n",
       "    }\n",
       "\n",
       "    .dataframe thead th {\n",
       "        text-align: right;\n",
       "    }\n",
       "</style>\n",
       "<table border=\"1\" class=\"dataframe\">\n",
       "  <thead>\n",
       "    <tr style=\"text-align: right;\">\n",
       "      <th></th>\n",
       "      <th>Column</th>\n",
       "      <th>Missing Values</th>\n",
       "      <th>Percentage (%)</th>\n",
       "    </tr>\n",
       "  </thead>\n",
       "  <tbody>\n",
       "    <tr>\n",
       "      <th>10</th>\n",
       "      <td>Malware Indicators</td>\n",
       "      <td>20000</td>\n",
       "      <td>50.0000</td>\n",
       "    </tr>\n",
       "    <tr>\n",
       "      <th>12</th>\n",
       "      <td>Alerts/Warnings</td>\n",
       "      <td>20067</td>\n",
       "      <td>50.1675</td>\n",
       "    </tr>\n",
       "    <tr>\n",
       "      <th>21</th>\n",
       "      <td>Proxy Information</td>\n",
       "      <td>19851</td>\n",
       "      <td>49.6275</td>\n",
       "    </tr>\n",
       "    <tr>\n",
       "      <th>22</th>\n",
       "      <td>Firewall Logs</td>\n",
       "      <td>19961</td>\n",
       "      <td>49.9025</td>\n",
       "    </tr>\n",
       "    <tr>\n",
       "      <th>23</th>\n",
       "      <td>IDS/IPS Alerts</td>\n",
       "      <td>20050</td>\n",
       "      <td>50.1250</td>\n",
       "    </tr>\n",
       "  </tbody>\n",
       "</table>\n",
       "</div>"
      ],
      "text/plain": [
       "                Column  Missing Values  Percentage (%)\n",
       "10  Malware Indicators           20000         50.0000\n",
       "12     Alerts/Warnings           20067         50.1675\n",
       "21   Proxy Information           19851         49.6275\n",
       "22       Firewall Logs           19961         49.9025\n",
       "23      IDS/IPS Alerts           20050         50.1250"
      ]
     },
     "metadata": {},
     "output_type": "display_data"
    }
   ],
   "source": [
    "# Displaying results\n",
    "if not missing_df.empty:\n",
    "    print(\"Missing Values Analysis:\")\n",
    "    display(missing_df)\n",
    "else:\n",
    "    print(\"No missing values found in the dataset.\")"
   ]
  },
  {
   "cell_type": "code",
   "execution_count": 12,
   "metadata": {},
   "outputs": [
    {
     "data": {
      "text/plain": [
       "Timestamp                 40000\n",
       "Anomaly Scores            40000\n",
       "Geo-location Data         40000\n",
       "Network Segment           40000\n",
       "Device Information        40000\n",
       "User Information          40000\n",
       "Severity Level            40000\n",
       "Action Taken              40000\n",
       "Attack Signature          40000\n",
       "Attack Type               40000\n",
       "Source IP Address         40000\n",
       "Log Source                40000\n",
       "Payload Data              40000\n",
       "Traffic Type              40000\n",
       "Packet Type               40000\n",
       "Packet Length             40000\n",
       "Protocol                  40000\n",
       "Destination Port          40000\n",
       "Source Port               40000\n",
       "Destination IP Address    40000\n",
       "Proxy Information         20149\n",
       "Firewall Logs             20039\n",
       "Malware Indicators        20000\n",
       "IDS/IPS Alerts            19950\n",
       "Alerts/Warnings           19933\n",
       "dtype: int64"
      ]
     },
     "execution_count": 12,
     "metadata": {},
     "output_type": "execute_result"
    }
   ],
   "source": [
    "df.notnull().sum().sort_values(ascending=False)"
   ]
  },
  {
   "cell_type": "markdown",
   "metadata": {},
   "source": [
    "## Checking data types\n"
   ]
  },
  {
   "cell_type": "code",
   "execution_count": 13,
   "metadata": {},
   "outputs": [
    {
     "data": {
      "text/plain": [
       "Timestamp                  object\n",
       "Source IP Address          object\n",
       "Destination IP Address     object\n",
       "Source Port                 int64\n",
       "Destination Port            int64\n",
       "Protocol                   object\n",
       "Packet Length               int64\n",
       "Packet Type                object\n",
       "Traffic Type               object\n",
       "Payload Data               object\n",
       "Malware Indicators         object\n",
       "Anomaly Scores            float64\n",
       "Alerts/Warnings            object\n",
       "Attack Type                object\n",
       "Attack Signature           object\n",
       "Action Taken               object\n",
       "Severity Level             object\n",
       "User Information           object\n",
       "Device Information         object\n",
       "Network Segment            object\n",
       "Geo-location Data          object\n",
       "Proxy Information          object\n",
       "Firewall Logs              object\n",
       "IDS/IPS Alerts             object\n",
       "Log Source                 object\n",
       "dtype: object"
      ]
     },
     "execution_count": 13,
     "metadata": {},
     "output_type": "execute_result"
    }
   ],
   "source": [
    "df.dtypes"
   ]
  },
  {
   "cell_type": "code",
   "execution_count": 14,
   "metadata": {},
   "outputs": [
    {
     "data": {
      "text/plain": [
       "Payload Data              40000\n",
       "Source IP Address         40000\n",
       "Destination IP Address    40000\n",
       "Timestamp                 39997\n",
       "User Information          32389\n",
       "Device Information        32104\n",
       "Destination Port          29895\n",
       "Source Port               29761\n",
       "Proxy Information         20148\n",
       "Anomaly Scores             9826\n",
       "Geo-location Data          8723\n",
       "Packet Length              1437\n",
       "Protocol                      3\n",
       "Traffic Type                  3\n",
       "Attack Type                   3\n",
       "Network Segment               3\n",
       "Action Taken                  3\n",
       "Severity Level                3\n",
       "Log Source                    2\n",
       "Attack Signature              2\n",
       "Packet Type                   2\n",
       "Malware Indicators            1\n",
       "Firewall Logs                 1\n",
       "IDS/IPS Alerts                1\n",
       "Alerts/Warnings               1\n",
       "dtype: int64"
      ]
     },
     "execution_count": 14,
     "metadata": {},
     "output_type": "execute_result"
    }
   ],
   "source": [
    "df.nunique().sort_values(ascending=False)"
   ]
  },
  {
   "cell_type": "code",
   "execution_count": 15,
   "metadata": {},
   "outputs": [
    {
     "data": {
      "text/plain": [
       "np.int64(0)"
      ]
     },
     "execution_count": 15,
     "metadata": {},
     "output_type": "execute_result"
    }
   ],
   "source": [
    "## Checking for duplicates\n",
    "duplicates = df.duplicated()\n",
    "duplicates.sum()"
   ]
  },
  {
   "cell_type": "code",
   "execution_count": 16,
   "metadata": {},
   "outputs": [
    {
     "name": "stdout",
     "output_type": "stream",
     "text": [
      "Top 4 Values Per NaN Feature:\n"
     ]
    },
    {
     "data": {
      "text/html": [
       "<div>\n",
       "<style scoped>\n",
       "    .dataframe tbody tr th:only-of-type {\n",
       "        vertical-align: middle;\n",
       "    }\n",
       "\n",
       "    .dataframe tbody tr th {\n",
       "        vertical-align: top;\n",
       "    }\n",
       "\n",
       "    .dataframe thead th {\n",
       "        text-align: right;\n",
       "    }\n",
       "</style>\n",
       "<table border=\"1\" class=\"dataframe\">\n",
       "  <thead>\n",
       "    <tr style=\"text-align: right;\">\n",
       "      <th></th>\n",
       "      <th>TOP 1</th>\n",
       "      <th>TOP 2</th>\n",
       "      <th>TOP 3</th>\n",
       "      <th>TOP 4</th>\n",
       "    </tr>\n",
       "  </thead>\n",
       "  <tbody>\n",
       "    <tr>\n",
       "      <th>Malware Indicators</th>\n",
       "      <td>IoC Detected</td>\n",
       "      <td>NaN</td>\n",
       "      <td>NaN</td>\n",
       "      <td>NaN</td>\n",
       "    </tr>\n",
       "    <tr>\n",
       "      <th>Alerts/Warnings</th>\n",
       "      <td>Alert Triggered</td>\n",
       "      <td>NaN</td>\n",
       "      <td>NaN</td>\n",
       "      <td>NaN</td>\n",
       "    </tr>\n",
       "    <tr>\n",
       "      <th>Firewall Logs</th>\n",
       "      <td>Log Data</td>\n",
       "      <td>NaN</td>\n",
       "      <td>NaN</td>\n",
       "      <td>NaN</td>\n",
       "    </tr>\n",
       "    <tr>\n",
       "      <th>IDS/IPS Alerts</th>\n",
       "      <td>Alert Data</td>\n",
       "      <td>NaN</td>\n",
       "      <td>NaN</td>\n",
       "      <td>NaN</td>\n",
       "    </tr>\n",
       "    <tr>\n",
       "      <th>Proxy Information</th>\n",
       "      <td>39.123.165.122</td>\n",
       "      <td>150.9.97.135</td>\n",
       "      <td>198.80.71.196</td>\n",
       "      <td>108.143.243.168</td>\n",
       "    </tr>\n",
       "  </tbody>\n",
       "</table>\n",
       "</div>"
      ],
      "text/plain": [
       "                              TOP 1         TOP 2          TOP 3  \\\n",
       "Malware Indicators     IoC Detected           NaN            NaN   \n",
       "Alerts/Warnings     Alert Triggered           NaN            NaN   \n",
       "Firewall Logs              Log Data           NaN            NaN   \n",
       "IDS/IPS Alerts           Alert Data           NaN            NaN   \n",
       "Proxy Information    39.123.165.122  150.9.97.135  198.80.71.196   \n",
       "\n",
       "                              TOP 4  \n",
       "Malware Indicators              NaN  \n",
       "Alerts/Warnings                 NaN  \n",
       "Firewall Logs                   NaN  \n",
       "IDS/IPS Alerts                  NaN  \n",
       "Proxy Information   108.143.243.168  "
      ]
     },
     "metadata": {},
     "output_type": "display_data"
    }
   ],
   "source": [
    "# Define the ordered column list based on user specification\n",
    "nan_features = [\n",
    "    \"Malware Indicators\", \n",
    "    \"Alerts/Warnings\",\n",
    "    \"Firewall Logs\", \n",
    "    \"IDS/IPS Alerts\",\n",
    "    \"Proxy Information\"\n",
    "]\n",
    "\n",
    "# Creating a blank dict to store the top 4 values for each NaN feature\n",
    "# structure of the dict \"Feature\": [Top Value 1, Top Value 2, Top Value 3, Top Value 4],\n",
    "top_values_dict = {}\n",
    "\n",
    "# Looping through each feature to extract the top 4 values\n",
    "for col in nan_features:\n",
    "    if col in df.columns:\n",
    "        top_values = df[col].value_counts().head(4)  # Get top 4 values\n",
    "        top_values_dict[col] = list(top_values.index) + [\"NaN\"] * (4 - len(top_values))  #if a feature has less than 4 unique values, fill the rest with NaN\n",
    "\n",
    "# Converting the dict to DataFrame\n",
    "top_values_df = pd.DataFrame.from_dict(top_values_dict, orient=\"index\", columns=[\"TOP 1\", \"TOP 2\", \"TOP 3\", \"TOP 4\"])\n",
    "\n",
    "# Displaying the table\n",
    "print(\"Top 4 Values Per NaN Feature:\")\n",
    "display(top_values_df)"
   ]
  },
  {
   "cell_type": "code",
   "execution_count": null,
   "metadata": {},
   "outputs": [],
   "source": [
    "# Replacing NAN values that appears to be a string with \"Unknown\"\n",
    "df[\"Malware Indicators\"].fillna(\"Not Detected\", inplace=True)\n",
    "df[\"Alerts/Warnings\"].fillna(\"No Alert\", inplace=True)\n",
    "df[\"Alerts/Warnings\"].fillna(\"No Alert\", inplace=True)\n",
    "df[\"Firewall Logs\"].fillna(\"No Log\", inplace=True)\n",
    "df[\"IDS/IPS Alerts\"].fillna(\"No Alert\", inplace=True)\n",
    "\n",
    "# Proxy Information shows ip addresses, so it will replace NAN values with \"Unknown Proxy\"\n",
    "df[\"Proxy Information\"].fillna(\"Unknown Proxy\", inplace=True)"
   ]
  },
  {
   "cell_type": "code",
   "execution_count": 18,
   "metadata": {},
   "outputs": [
    {
     "data": {
      "text/plain": [
       "Timestamp                 0\n",
       "Attack Type               0\n",
       "IDS/IPS Alerts            0\n",
       "Firewall Logs             0\n",
       "Proxy Information         0\n",
       "Geo-location Data         0\n",
       "Network Segment           0\n",
       "Device Information        0\n",
       "User Information          0\n",
       "Severity Level            0\n",
       "Action Taken              0\n",
       "Attack Signature          0\n",
       "Alerts/Warnings           0\n",
       "Source IP Address         0\n",
       "Anomaly Scores            0\n",
       "Malware Indicators        0\n",
       "Payload Data              0\n",
       "Traffic Type              0\n",
       "Packet Type               0\n",
       "Packet Length             0\n",
       "Protocol                  0\n",
       "Destination Port          0\n",
       "Source Port               0\n",
       "Destination IP Address    0\n",
       "Log Source                0\n",
       "dtype: int64"
      ]
     },
     "execution_count": 18,
     "metadata": {},
     "output_type": "execute_result"
    }
   ],
   "source": [
    "df.isna().sum().sort_values(ascending=False)"
   ]
  },
  {
   "cell_type": "markdown",
   "metadata": {},
   "source": [
    "# 2. **Statistical Overview and Data Distribution**  "
   ]
  },
  {
   "cell_type": "markdown",
   "metadata": {},
   "source": [
    "## Network traffic analysis"
   ]
  },
  {
   "cell_type": "code",
   "execution_count": 19,
   "metadata": {},
   "outputs": [],
   "source": [
    "network_traffic_features = [\"Source IP Address\", \n",
    "                           \"Destination IP Address\", \n",
    "                           \"Source Port\", \n",
    "                           \"Destination Port\", \n",
    "                           \"Protocol\", \n",
    "                           \"Packet Length\", \n",
    "                           \"Traffic Type\"\n",
    "                           ]"
   ]
  },
  {
   "cell_type": "code",
   "execution_count": 20,
   "metadata": {},
   "outputs": [
    {
     "data": {
      "text/html": [
       "<div>\n",
       "<style scoped>\n",
       "    .dataframe tbody tr th:only-of-type {\n",
       "        vertical-align: middle;\n",
       "    }\n",
       "\n",
       "    .dataframe tbody tr th {\n",
       "        vertical-align: top;\n",
       "    }\n",
       "\n",
       "    .dataframe thead th {\n",
       "        text-align: right;\n",
       "    }\n",
       "</style>\n",
       "<table border=\"1\" class=\"dataframe\">\n",
       "  <thead>\n",
       "    <tr style=\"text-align: right;\">\n",
       "      <th></th>\n",
       "      <th>Source Port</th>\n",
       "      <th>Destination Port</th>\n",
       "      <th>Packet Length</th>\n",
       "    </tr>\n",
       "  </thead>\n",
       "  <tbody>\n",
       "    <tr>\n",
       "      <th>count</th>\n",
       "      <td>40000.000000</td>\n",
       "      <td>40000.000000</td>\n",
       "      <td>40000.000000</td>\n",
       "    </tr>\n",
       "    <tr>\n",
       "      <th>mean</th>\n",
       "      <td>32970.356450</td>\n",
       "      <td>33150.868650</td>\n",
       "      <td>781.452725</td>\n",
       "    </tr>\n",
       "    <tr>\n",
       "      <th>std</th>\n",
       "      <td>18560.425604</td>\n",
       "      <td>18574.668842</td>\n",
       "      <td>416.044192</td>\n",
       "    </tr>\n",
       "    <tr>\n",
       "      <th>min</th>\n",
       "      <td>1027.000000</td>\n",
       "      <td>1024.000000</td>\n",
       "      <td>64.000000</td>\n",
       "    </tr>\n",
       "    <tr>\n",
       "      <th>25%</th>\n",
       "      <td>16850.750000</td>\n",
       "      <td>17094.750000</td>\n",
       "      <td>420.000000</td>\n",
       "    </tr>\n",
       "    <tr>\n",
       "      <th>50%</th>\n",
       "      <td>32856.000000</td>\n",
       "      <td>33004.500000</td>\n",
       "      <td>782.000000</td>\n",
       "    </tr>\n",
       "    <tr>\n",
       "      <th>75%</th>\n",
       "      <td>48928.250000</td>\n",
       "      <td>49287.000000</td>\n",
       "      <td>1143.000000</td>\n",
       "    </tr>\n",
       "    <tr>\n",
       "      <th>max</th>\n",
       "      <td>65530.000000</td>\n",
       "      <td>65535.000000</td>\n",
       "      <td>1500.000000</td>\n",
       "    </tr>\n",
       "  </tbody>\n",
       "</table>\n",
       "</div>"
      ],
      "text/plain": [
       "        Source Port  Destination Port  Packet Length\n",
       "count  40000.000000      40000.000000   40000.000000\n",
       "mean   32970.356450      33150.868650     781.452725\n",
       "std    18560.425604      18574.668842     416.044192\n",
       "min     1027.000000       1024.000000      64.000000\n",
       "25%    16850.750000      17094.750000     420.000000\n",
       "50%    32856.000000      33004.500000     782.000000\n",
       "75%    48928.250000      49287.000000    1143.000000\n",
       "max    65530.000000      65535.000000    1500.000000"
      ]
     },
     "execution_count": 20,
     "metadata": {},
     "output_type": "execute_result"
    }
   ],
   "source": [
    "# Display basic statistics for numeric columns\n",
    "nt_numeric_features = [\"Source Port\", \n",
    "                       \"Destination Port\", \n",
    "                       \"Packet Length\"\n",
    "                       ]\n",
    "df[nt_numeric_features].describe()"
   ]
  },
  {
   "cell_type": "code",
   "execution_count": 21,
   "metadata": {},
   "outputs": [
    {
     "data": {
      "text/plain": [
       "Protocol  Traffic Type\n",
       "ICMP      HTTP            4530\n",
       "          DNS             4513\n",
       "UDP       FTP             4505\n",
       "TCP       DNS             4463\n",
       "          HTTP            4436\n",
       "UDP       DNS             4400\n",
       "          HTTP            4394\n",
       "ICMP      FTP             4386\n",
       "TCP       FTP             4373\n",
       "Name: count, dtype: int64"
      ]
     },
     "execution_count": 21,
     "metadata": {},
     "output_type": "execute_result"
    }
   ],
   "source": [
    "# Display frequency of categorical columns\n",
    "nt_categorical_vars = [\"Protocol\", \"Traffic Type\"]\n",
    "df[nt_categorical_vars].value_counts()"
   ]
  },
  {
   "cell_type": "markdown",
   "metadata": {},
   "source": [
    "### Investigating Packet Lenght"
   ]
  },
  {
   "cell_type": "code",
   "execution_count": 22,
   "metadata": {},
   "outputs": [
    {
     "data": {
      "image/png": "[encoded data removed]",
      "text/plain": [
       "<Figure size 800x500 with 1 Axes>"
      ]
     },
     "metadata": {},
     "output_type": "display_data"
    }
   ],
   "source": [
    "plt.figure(figsize=(8, 5))\n",
    "sns.histplot(df[\"Packet Length\"], bins=50,  color=\"blue\")\n",
    "plt.title(\"Distribution of Packet Lengths\")\n",
    "plt.xlabel(\"Packet Length\")\n",
    "plt.ylabel(\"Frequency\")\n",
    "plt.show()"
   ]
  },
  {
   "cell_type": "markdown",
   "metadata": {},
   "source": [
    "The histogram shows no isolated peaks, suggesting no signs of atypical traffic or massive packet injection attacks, indicating expected network behavior.\n",
    "small peaks at the edges, big packets could be related to buffer overflow"
   ]
  },
  {
   "cell_type": "code",
   "execution_count": 23,
   "metadata": {},
   "outputs": [
    {
     "name": "stdout",
     "output_type": "stream",
     "text": [
      "Packet Size by Traffic Type:\n"
     ]
    },
    {
     "data": {
      "text/html": [
       "<div>\n",
       "<style scoped>\n",
       "    .dataframe tbody tr th:only-of-type {\n",
       "        vertical-align: middle;\n",
       "    }\n",
       "\n",
       "    .dataframe tbody tr th {\n",
       "        vertical-align: top;\n",
       "    }\n",
       "\n",
       "    .dataframe thead th {\n",
       "        text-align: right;\n",
       "    }\n",
       "</style>\n",
       "<table border=\"1\" class=\"dataframe\">\n",
       "  <thead>\n",
       "    <tr style=\"text-align: right;\">\n",
       "      <th></th>\n",
       "      <th>Mean</th>\n",
       "      <th>Median</th>\n",
       "      <th>Min</th>\n",
       "      <th>Max</th>\n",
       "      <th>Std Dev</th>\n",
       "    </tr>\n",
       "  </thead>\n",
       "  <tbody>\n",
       "    <tr>\n",
       "      <th>DNS</th>\n",
       "      <td>781.031848</td>\n",
       "      <td>785.0</td>\n",
       "      <td>64</td>\n",
       "      <td>1500</td>\n",
       "      <td>415.648566</td>\n",
       "    </tr>\n",
       "    <tr>\n",
       "      <th>FTP</th>\n",
       "      <td>780.949563</td>\n",
       "      <td>783.0</td>\n",
       "      <td>64</td>\n",
       "      <td>1500</td>\n",
       "      <td>415.326361</td>\n",
       "    </tr>\n",
       "    <tr>\n",
       "      <th>HTTP</th>\n",
       "      <td>782.373653</td>\n",
       "      <td>779.0</td>\n",
       "      <td>64</td>\n",
       "      <td>1500</td>\n",
       "      <td>417.180218</td>\n",
       "    </tr>\n",
       "    <tr>\n",
       "      <th>Total</th>\n",
       "      <td>781.452725</td>\n",
       "      <td>782.0</td>\n",
       "      <td>64</td>\n",
       "      <td>1500</td>\n",
       "      <td>416.044192</td>\n",
       "    </tr>\n",
       "  </tbody>\n",
       "</table>\n",
       "</div>"
      ],
      "text/plain": [
       "             Mean  Median  Min   Max     Std Dev\n",
       "DNS    781.031848   785.0   64  1500  415.648566\n",
       "FTP    780.949563   783.0   64  1500  415.326361\n",
       "HTTP   782.373653   779.0   64  1500  417.180218\n",
       "Total  781.452725   782.0   64  1500  416.044192"
      ]
     },
     "metadata": {},
     "output_type": "display_data"
    }
   ],
   "source": [
    "# Creating a cross table for Packet Length by Traffic Type\n",
    "packet_size_by_traffic = df.pivot_table(\n",
    "    values=\"Packet Length\", \n",
    "    index=\"Traffic Type\", \n",
    "    aggfunc=[\"mean\", \"median\", \"min\", \"max\", \"std\"]\n",
    ")\n",
    "# Renaming columns\n",
    "packet_size_by_traffic.columns = [\"Mean\", \"Median\", \"Min\", \"Max\", \"Std Dev\"]\n",
    "\n",
    "\n",
    "# Total Row for the table\n",
    "packet_size_by_traffic = pd.concat([packet_size_by_traffic, \n",
    "    pd.DataFrame(\n",
    "    [[df[\"Packet Length\"].mean(), df[\"Packet Length\"].median(), df[\"Packet Length\"].min(), \n",
    "      df[\"Packet Length\"].max(), df[\"Packet Length\"].std()]],\n",
    "    \n",
    "    columns=packet_size_by_traffic.columns,\n",
    "    index=[\"Total\"]\n",
    ")])\n",
    "\n",
    "# Display table\n",
    "print(\"Packet Size by Traffic Type:\")\n",
    "display(packet_size_by_traffic)"
   ]
  },
  {
   "cell_type": "markdown",
   "metadata": {},
   "source": [
    "Packet sizes are fairly consistent across traffic types (DNS, FTP, HTTP), with similar means, medians, and standard deviations, suggesting no significant variation in packet distribution by traffic type."
   ]
  },
  {
   "cell_type": "code",
   "execution_count": 24,
   "metadata": {},
   "outputs": [
    {
     "name": "stdout",
     "output_type": "stream",
     "text": [
      "Packet Size by Severity Level:\n"
     ]
    },
    {
     "data": {
      "text/html": [
       "<div>\n",
       "<style scoped>\n",
       "    .dataframe tbody tr th:only-of-type {\n",
       "        vertical-align: middle;\n",
       "    }\n",
       "\n",
       "    .dataframe tbody tr th {\n",
       "        vertical-align: top;\n",
       "    }\n",
       "\n",
       "    .dataframe thead th {\n",
       "        text-align: right;\n",
       "    }\n",
       "</style>\n",
       "<table border=\"1\" class=\"dataframe\">\n",
       "  <thead>\n",
       "    <tr style=\"text-align: right;\">\n",
       "      <th></th>\n",
       "      <th>Mean</th>\n",
       "      <th>Median</th>\n",
       "      <th>Min</th>\n",
       "      <th>Max</th>\n",
       "      <th>Std Dev</th>\n",
       "    </tr>\n",
       "  </thead>\n",
       "  <tbody>\n",
       "    <tr>\n",
       "      <th>High</th>\n",
       "      <td>780.828576</td>\n",
       "      <td>786.0</td>\n",
       "      <td>64</td>\n",
       "      <td>1500</td>\n",
       "      <td>416.858834</td>\n",
       "    </tr>\n",
       "    <tr>\n",
       "      <th>Low</th>\n",
       "      <td>779.920504</td>\n",
       "      <td>778.0</td>\n",
       "      <td>64</td>\n",
       "      <td>1500</td>\n",
       "      <td>416.710555</td>\n",
       "    </tr>\n",
       "    <tr>\n",
       "      <th>Medium</th>\n",
       "      <td>783.577894</td>\n",
       "      <td>783.0</td>\n",
       "      <td>64</td>\n",
       "      <td>1500</td>\n",
       "      <td>414.597373</td>\n",
       "    </tr>\n",
       "    <tr>\n",
       "      <th>Total</th>\n",
       "      <td>781.452725</td>\n",
       "      <td>782.0</td>\n",
       "      <td>64</td>\n",
       "      <td>1500</td>\n",
       "      <td>416.044192</td>\n",
       "    </tr>\n",
       "  </tbody>\n",
       "</table>\n",
       "</div>"
      ],
      "text/plain": [
       "              Mean  Median  Min   Max     Std Dev\n",
       "High    780.828576   786.0   64  1500  416.858834\n",
       "Low     779.920504   778.0   64  1500  416.710555\n",
       "Medium  783.577894   783.0   64  1500  414.597373\n",
       "Total   781.452725   782.0   64  1500  416.044192"
      ]
     },
     "metadata": {},
     "output_type": "display_data"
    }
   ],
   "source": [
    "# Creating a cross table for Packet Length by Severity Level\n",
    "packet_size_by_severity = df.pivot_table(\n",
    "    values=\"Packet Length\", \n",
    "    index=\"Severity Level\", \n",
    "    aggfunc=[\"mean\", \"median\", \"min\", \"max\", \"std\"]\n",
    ")\n",
    "\n",
    "# Renaming columns\n",
    "packet_size_by_severity.columns = [\"Mean\", \"Median\", \"Min\", \"Max\", \"Std Dev\"]\n",
    "\n",
    "# Total Row for the table\n",
    "packet_size_by_severity = pd.concat([packet_size_by_severity, \n",
    "    pd.DataFrame(\n",
    "    [[df[\"Packet Length\"].mean(), df[\"Packet Length\"].median(), df[\"Packet Length\"].min(), \n",
    "      df[\"Packet Length\"].max(), df[\"Packet Length\"].std()]],\n",
    "    \n",
    "    columns=packet_size_by_severity.columns,\n",
    "    index=[\"Total\"]\n",
    ")])\n",
    "\n",
    "\n",
    "\n",
    "# Display table\n",
    "print(\"Packet Size by Severity Level:\")\n",
    "display(packet_size_by_severity)"
   ]
  },
  {
   "cell_type": "markdown",
   "metadata": {},
   "source": [
    "Packet size remains consistent across severity levels, suggesting it is not a key factor in determining attack severity."
   ]
  },
  {
   "cell_type": "code",
   "execution_count": 25,
   "metadata": {},
   "outputs": [
    {
     "name": "stdout",
     "output_type": "stream",
     "text": [
      "Packet Size by Action Taken:\n"
     ]
    },
    {
     "data": {
      "text/html": [
       "<div>\n",
       "<style scoped>\n",
       "    .dataframe tbody tr th:only-of-type {\n",
       "        vertical-align: middle;\n",
       "    }\n",
       "\n",
       "    .dataframe tbody tr th {\n",
       "        vertical-align: top;\n",
       "    }\n",
       "\n",
       "    .dataframe thead th {\n",
       "        text-align: right;\n",
       "    }\n",
       "</style>\n",
       "<table border=\"1\" class=\"dataframe\">\n",
       "  <thead>\n",
       "    <tr style=\"text-align: right;\">\n",
       "      <th></th>\n",
       "      <th>Mean</th>\n",
       "      <th>Median</th>\n",
       "      <th>Min</th>\n",
       "      <th>Max</th>\n",
       "      <th>Std Dev</th>\n",
       "    </tr>\n",
       "  </thead>\n",
       "  <tbody>\n",
       "    <tr>\n",
       "      <th>Blocked</th>\n",
       "      <td>784.173331</td>\n",
       "      <td>786.0</td>\n",
       "      <td>64</td>\n",
       "      <td>1500</td>\n",
       "      <td>413.469430</td>\n",
       "    </tr>\n",
       "    <tr>\n",
       "      <th>Ignored</th>\n",
       "      <td>781.720398</td>\n",
       "      <td>784.0</td>\n",
       "      <td>64</td>\n",
       "      <td>1500</td>\n",
       "      <td>416.980247</td>\n",
       "    </tr>\n",
       "    <tr>\n",
       "      <th>Logged</th>\n",
       "      <td>778.393937</td>\n",
       "      <td>774.0</td>\n",
       "      <td>64</td>\n",
       "      <td>1500</td>\n",
       "      <td>417.740723</td>\n",
       "    </tr>\n",
       "    <tr>\n",
       "      <th>Total</th>\n",
       "      <td>781.452725</td>\n",
       "      <td>782.0</td>\n",
       "      <td>64</td>\n",
       "      <td>1500</td>\n",
       "      <td>416.044192</td>\n",
       "    </tr>\n",
       "  </tbody>\n",
       "</table>\n",
       "</div>"
      ],
      "text/plain": [
       "               Mean  Median  Min   Max     Std Dev\n",
       "Blocked  784.173331   786.0   64  1500  413.469430\n",
       "Ignored  781.720398   784.0   64  1500  416.980247\n",
       "Logged   778.393937   774.0   64  1500  417.740723\n",
       "Total    781.452725   782.0   64  1500  416.044192"
      ]
     },
     "metadata": {},
     "output_type": "display_data"
    }
   ],
   "source": [
    "# Creating a cross table for Packet Length by Action Taken\n",
    "packet_size_by_action = df.pivot_table(\n",
    "    values=\"Packet Length\", \n",
    "    index=\"Action Taken\", \n",
    "    aggfunc=[\"mean\", \"median\", \"min\", \"max\", \"std\"]\n",
    ")\n",
    "\n",
    "# Renaming columns\n",
    "packet_size_by_action.columns = [\"Mean\", \"Median\", \"Min\", \"Max\", \"Std Dev\"]\n",
    "\n",
    "\n",
    "# Total Row for the table\n",
    "packet_size_by_action = pd.concat([packet_size_by_action, \n",
    "    pd.DataFrame(\n",
    "    [[df[\"Packet Length\"].mean(), df[\"Packet Length\"].median(), df[\"Packet Length\"].min(), \n",
    "      df[\"Packet Length\"].max(), df[\"Packet Length\"].std()]],\n",
    "    \n",
    "    columns=packet_size_by_action.columns,\n",
    "    index=[\"Total\"]\n",
    ")])\n",
    "\n",
    "# Display table\n",
    "print(\"Packet Size by Action Taken:\")\n",
    "display(packet_size_by_action)"
   ]
  },
  {
   "cell_type": "markdown",
   "metadata": {},
   "source": [
    "Blocked packets have a slightly higher average size than ignored or logged packets, but the differences are minimal, suggesting packet size is not a key factor in action taken."
   ]
  },
  {
   "cell_type": "markdown",
   "metadata": {},
   "source": [
    "#### Analysys\n",
    "- packets lengths show no specific patterns that could be correlated to attacks"
   ]
  },
  {
   "cell_type": "markdown",
   "metadata": {},
   "source": [
    "## IP Addresses\n",
    "- To keep the analysis straightforward, we will focus on the top 10 most frequently occurring IP addresses."
   ]
  },
  {
   "cell_type": "code",
   "execution_count": 26,
   "metadata": {},
   "outputs": [],
   "source": [
    "ip_threshold = 10\n",
    "\n",
    "# Analyzing the top most frequent Source and Destination IP Addresses\n",
    "top_source_ips = df[\"Source IP Address\"].value_counts().head(ip_threshold)\n",
    "top_dest_ips = df[\"Destination IP Address\"].value_counts().head(ip_threshold)"
   ]
  },
  {
   "cell_type": "code",
   "execution_count": 27,
   "metadata": {},
   "outputs": [
    {
     "name": "stdout",
     "output_type": "stream",
     "text": [
      "Top 10 Source IP Addresses:\n"
     ]
    },
    {
     "data": {
      "text/html": [
       "<div>\n",
       "<style scoped>\n",
       "    .dataframe tbody tr th:only-of-type {\n",
       "        vertical-align: middle;\n",
       "    }\n",
       "\n",
       "    .dataframe tbody tr th {\n",
       "        vertical-align: top;\n",
       "    }\n",
       "\n",
       "    .dataframe thead th {\n",
       "        text-align: right;\n",
       "    }\n",
       "</style>\n",
       "<table border=\"1\" class=\"dataframe\">\n",
       "  <thead>\n",
       "    <tr style=\"text-align: right;\">\n",
       "      <th></th>\n",
       "      <th>count</th>\n",
       "    </tr>\n",
       "    <tr>\n",
       "      <th>Source IP Address</th>\n",
       "      <th></th>\n",
       "    </tr>\n",
       "  </thead>\n",
       "  <tbody>\n",
       "    <tr>\n",
       "      <th>103.216.15.12</th>\n",
       "      <td>1</td>\n",
       "    </tr>\n",
       "    <tr>\n",
       "      <th>74.225.47.66</th>\n",
       "      <td>1</td>\n",
       "    </tr>\n",
       "    <tr>\n",
       "      <th>147.178.224.232</th>\n",
       "      <td>1</td>\n",
       "    </tr>\n",
       "    <tr>\n",
       "      <th>119.183.250.156</th>\n",
       "      <td>1</td>\n",
       "    </tr>\n",
       "    <tr>\n",
       "      <th>80.60.140.131</th>\n",
       "      <td>1</td>\n",
       "    </tr>\n",
       "    <tr>\n",
       "      <th>197.184.240.174</th>\n",
       "      <td>1</td>\n",
       "    </tr>\n",
       "    <tr>\n",
       "      <th>81.194.89.127</th>\n",
       "      <td>1</td>\n",
       "    </tr>\n",
       "    <tr>\n",
       "      <th>92.144.85.155</th>\n",
       "      <td>1</td>\n",
       "    </tr>\n",
       "    <tr>\n",
       "      <th>40.119.100.114</th>\n",
       "      <td>1</td>\n",
       "    </tr>\n",
       "    <tr>\n",
       "      <th>37.220.27.135</th>\n",
       "      <td>1</td>\n",
       "    </tr>\n",
       "  </tbody>\n",
       "</table>\n",
       "</div>"
      ],
      "text/plain": [
       "                   count\n",
       "Source IP Address       \n",
       "103.216.15.12          1\n",
       "74.225.47.66           1\n",
       "147.178.224.232        1\n",
       "119.183.250.156        1\n",
       "80.60.140.131          1\n",
       "197.184.240.174        1\n",
       "81.194.89.127          1\n",
       "92.144.85.155          1\n",
       "40.119.100.114         1\n",
       "37.220.27.135          1"
      ]
     },
     "metadata": {},
     "output_type": "display_data"
    }
   ],
   "source": [
    "# Displaying results for the top IP Sources\n",
    "print(f\"Top {ip_threshold} Source IP Addresses:\")\n",
    "display(top_source_ips.to_frame())"
   ]
  },
  {
   "cell_type": "code",
   "execution_count": 28,
   "metadata": {},
   "outputs": [
    {
     "name": "stdout",
     "output_type": "stream",
     "text": [
      "Top 10 Destination IP Addresses:\n"
     ]
    },
    {
     "data": {
      "text/html": [
       "<div>\n",
       "<style scoped>\n",
       "    .dataframe tbody tr th:only-of-type {\n",
       "        vertical-align: middle;\n",
       "    }\n",
       "\n",
       "    .dataframe tbody tr th {\n",
       "        vertical-align: top;\n",
       "    }\n",
       "\n",
       "    .dataframe thead th {\n",
       "        text-align: right;\n",
       "    }\n",
       "</style>\n",
       "<table border=\"1\" class=\"dataframe\">\n",
       "  <thead>\n",
       "    <tr style=\"text-align: right;\">\n",
       "      <th></th>\n",
       "      <th>count</th>\n",
       "    </tr>\n",
       "    <tr>\n",
       "      <th>Destination IP Address</th>\n",
       "      <th></th>\n",
       "    </tr>\n",
       "  </thead>\n",
       "  <tbody>\n",
       "    <tr>\n",
       "      <th>84.9.164.252</th>\n",
       "      <td>1</td>\n",
       "    </tr>\n",
       "    <tr>\n",
       "      <th>131.248.231.186</th>\n",
       "      <td>1</td>\n",
       "    </tr>\n",
       "    <tr>\n",
       "      <th>48.157.39.218</th>\n",
       "      <td>1</td>\n",
       "    </tr>\n",
       "    <tr>\n",
       "      <th>112.135.140.167</th>\n",
       "      <td>1</td>\n",
       "    </tr>\n",
       "    <tr>\n",
       "      <th>125.252.191.10</th>\n",
       "      <td>1</td>\n",
       "    </tr>\n",
       "    <tr>\n",
       "      <th>178.20.22.38</th>\n",
       "      <td>1</td>\n",
       "    </tr>\n",
       "    <tr>\n",
       "      <th>202.132.43.236</th>\n",
       "      <td>1</td>\n",
       "    </tr>\n",
       "    <tr>\n",
       "      <th>201.87.208.124</th>\n",
       "      <td>1</td>\n",
       "    </tr>\n",
       "    <tr>\n",
       "      <th>14.172.223.72</th>\n",
       "      <td>1</td>\n",
       "    </tr>\n",
       "    <tr>\n",
       "      <th>69.198.150.48</th>\n",
       "      <td>1</td>\n",
       "    </tr>\n",
       "  </tbody>\n",
       "</table>\n",
       "</div>"
      ],
      "text/plain": [
       "                        count\n",
       "Destination IP Address       \n",
       "84.9.164.252                1\n",
       "131.248.231.186             1\n",
       "48.157.39.218               1\n",
       "112.135.140.167             1\n",
       "125.252.191.10              1\n",
       "178.20.22.38                1\n",
       "202.132.43.236              1\n",
       "201.87.208.124              1\n",
       "14.172.223.72               1\n",
       "69.198.150.48               1"
      ]
     },
     "metadata": {},
     "output_type": "display_data"
    }
   ],
   "source": [
    "# Displaying results for IP Destination\n",
    "print(f\"Top {ip_threshold} Destination IP Addresses:\")\n",
    "display(top_dest_ips.to_frame())"
   ]
  },
  {
   "cell_type": "markdown",
   "metadata": {},
   "source": [
    "- Each Source and Destination IP appears only once indicating a widely distributed traffic pattern, which could mean regular network usage attacks like botnet-driven attacks or large-scale scanning activity."
   ]
  }
 ],
 "metadata": {
  "kernelspec": {
   "display_name": ".venv",
   "language": "python",
   "name": "python3"
  },
  "language_info": {
   "codemirror_mode": {
    "name": "ipython",
    "version": 3
   },
   "file_extension": ".py",
   "mimetype": "text/x-python",
   "name": "python",
   "nbconvert_exporter": "python",
   "pygments_lexer": "ipython3",
   "version": "3.13.2"
  }
 },
 "nbformat": 4,
 "nbformat_minor": 2
}
